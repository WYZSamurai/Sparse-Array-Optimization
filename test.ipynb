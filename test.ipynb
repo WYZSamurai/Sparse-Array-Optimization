{
 "cells": [
  {
   "cell_type": "code",
   "execution_count": null,
   "metadata": {},
   "outputs": [],
   "source": [
    "import torch"
   ]
  },
  {
   "cell_type": "code",
   "execution_count": null,
   "metadata": {},
   "outputs": [],
   "source": [
    "# 种群数\n",
    "NP = 5\n",
    "# 交叉率\n",
    "Pc = 0.8\n",
    "# 变异率\n",
    "Pm = 0.050\n",
    "# 迭代次数\n",
    "G = 200\n",
    "# 实际阵元个数\n",
    "NE = 5\n",
    "# 满阵阵元个数\n",
    "ME = 10\n",
    "# 波长（米）\n",
    "lamb = 1\n",
    "# 阵列间距\n",
    "d = 0.5*lamb\n",
    "# 波束指向（角度）\n",
    "theta_0 = 0\n",
    "# 扫描精度\n",
    "delta = 1800\n",
    "# 阵列口径（米）\n",
    "AA = d*(ME-1)"
   ]
  },
  {
   "cell_type": "code",
   "execution_count": null,
   "metadata": {},
   "outputs": [],
   "source": [
    "# 创建一个m*n的零矩阵\n",
    "dna = torch.zeros(NP, ME)\n",
    "\n",
    "# 设置首列和尾列为1\n",
    "dna[:, [0, -1]] = 1\n",
    "\n",
    "temp = dna[:, 1:ME-1].clone()\n",
    "\n",
    "\n",
    "# 随机生成中间列的1\n",
    "for i in range(NP):\n",
    "    # 生成一个不重复的随机索引序列\n",
    "    indices = torch.randperm(ME-2)[:NE-2] + 1  # 加1是为了避开第一列\n",
    "    # 将选中的位置设置为1\n",
    "    dna[i, indices] = 1\n",
    "\n",
    "print(dna)"
   ]
  }
 ],
 "metadata": {
  "kernelspec": {
   "display_name": "mlp",
   "language": "python",
   "name": "python3"
  },
  "language_info": {
   "codemirror_mode": {
    "name": "ipython",
    "version": 3
   },
   "file_extension": ".py",
   "mimetype": "text/x-python",
   "name": "python",
   "nbconvert_exporter": "python",
   "pygments_lexer": "ipython3",
   "version": "3.12.1"
  }
 },
 "nbformat": 4,
 "nbformat_minor": 2
}
